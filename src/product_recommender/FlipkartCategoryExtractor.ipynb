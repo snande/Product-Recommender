{
 "cells": [
  {
   "cell_type": "code",
   "execution_count": 1,
   "id": "cb216f77-c3cf-4f29-a3c2-88474c024367",
   "metadata": {},
   "outputs": [],
   "source": [
    "from bs4 import BeautifulSoup\n",
    "import requests\n",
    "import pandas as pd\n",
    "import numpy as np\n",
    "from time import sleep"
   ]
  },
  {
   "cell_type": "code",
   "execution_count": 2,
   "id": "31a9a9c2-552a-4a89-9f86-f005aba008c1",
   "metadata": {},
   "outputs": [],
   "source": [
    "base_link = \"https://www.flipkart.com/\"\n",
    "\n",
    "link1 = \"all-categories/pr?sid=search.flipkart.com\""
   ]
  },
  {
   "cell_type": "code",
   "execution_count": 3,
   "id": "bb78ffeb-f944-4e6a-bd70-a2bf7c67b199",
   "metadata": {},
   "outputs": [],
   "source": [
    "html = requests.get(base_link+link1).text"
   ]
  },
  {
   "cell_type": "code",
   "execution_count": 12,
   "id": "0207492a-fa16-438f-9b59-965ac13bdc59",
   "metadata": {},
   "outputs": [],
   "source": [
    "soup = BeautifulSoup(html_manual)"
   ]
  },
  {
   "cell_type": "code",
   "execution_count": 13,
   "id": "dc713275-ab5f-4b78-8bfd-6073a8d2aac1",
   "metadata": {},
   "outputs": [
    {
     "data": {
      "text/plain": [
       "[<a class=\"_1jJQdf _2Mji8F\" href=\"/clothing-and-accessories/pr?sid=clo&amp;otracker=categorytree\" title=\"Clothing and Accessories\">Clothing and Accessories</a>,\n",
       " <a class=\"_1jJQdf _2Mji8F\" href=\"/automotive-accessories/pr?sid=1mt&amp;otracker=categorytree\" title=\"Automotive Accessories\">Automotive Accessories</a>,\n",
       " <a class=\"_1jJQdf _2Mji8F\" href=\"/food-products/pr?sid=eat&amp;otracker=categorytree\" title=\"Food Products\">Food Products</a>,\n",
       " <a class=\"_1jJQdf _2Mji8F\" href=\"/books/pr?sid=bks&amp;otracker=categorytree\" title=\"Books\">Books</a>,\n",
       " <a class=\"_1jJQdf _2Mji8F\" href=\"/industrial-scientific-supplies/pr?sid=gsx&amp;otracker=categorytree\" title=\"Industrial &amp; Scientific Supplies\">Industrial &amp; Scientific Supplies</a>,\n",
       " <a class=\"_1jJQdf _2Mji8F\" href=\"/health-care/pr?sid=hlc&amp;otracker=categorytree\" title=\"Health Care\">Health Care</a>,\n",
       " <a class=\"_1jJQdf _2Mji8F\" href=\"/home-improvement/pr?sid=h1m&amp;otracker=categorytree\" title=\"Home Improvement\">Home Improvement</a>,\n",
       " <a class=\"_1jJQdf _2Mji8F\" href=\"/building-materials-and-supplies/pr?sid=b8s&amp;otracker=categorytree\" title=\"Building Materials and Supplies\">Building Materials and Supplies</a>,\n",
       " <a class=\"_1jJQdf _2Mji8F\" href=\"/beauty-and-grooming/pr?sid=g9b&amp;otracker=categorytree\" title=\"Beauty and Grooming\">Beauty and Grooming</a>,\n",
       " <a class=\"_1jJQdf _2Mji8F\" href=\"/mobiles-accessories/pr?sid=tyy&amp;otracker=categorytree\" title=\"Mobiles &amp; Accessories\">Mobiles &amp; Accessories</a>,\n",
       " <a class=\"_1jJQdf _2Mji8F\" href=\"/computers/pr?sid=6bo&amp;otracker=categorytree\" title=\"Computers\">Computers</a>,\n",
       " <a class=\"_1jJQdf _2Mji8F\" href=\"/cameras-accessories/pr?sid=jek&amp;otracker=categorytree\" title=\"Cameras &amp; Accessories\">Cameras &amp; Accessories</a>,\n",
       " <a class=\"_1jJQdf _2Mji8F\" href=\"/gaming/pr?sid=4rr&amp;otracker=categorytree\" title=\"Gaming\">Gaming</a>,\n",
       " <a class=\"_1jJQdf _2Mji8F\" href=\"/music-movies-posters/pr?sid=4kt&amp;otracker=categorytree\" title=\"Music, Movies &amp; Posters\">Music, Movies &amp; Posters</a>,\n",
       " <a class=\"_1jJQdf _2Mji8F\" href=\"/home-entertainment/pr?sid=ckf&amp;otracker=categorytree\" title=\"Home Entertainment\">Home Entertainment</a>,\n",
       " <a class=\"_1jJQdf _2Mji8F\" href=\"/home-kitchen/pr?sid=j9e&amp;otracker=categorytree\" title=\"Home &amp; Kitchen\">Home &amp; Kitchen</a>,\n",
       " <a class=\"_1jJQdf _2Mji8F\" href=\"/pens-stationery/pr?sid=dgv&amp;otracker=categorytree\" title=\"Pens &amp; Stationery\">Pens &amp; Stationery</a>,\n",
       " <a class=\"_1jJQdf _2Mji8F\" href=\"/bags-wallets-belts/pr?sid=reh&amp;otracker=categorytree\" title=\"Bags, Wallets &amp; Belts\">Bags, Wallets &amp; Belts</a>,\n",
       " <a class=\"_1jJQdf _2Mji8F\" href=\"/home-lighting/pr?sid=jhg&amp;otracker=categorytree\" title=\"Home Lighting\">Home Lighting</a>,\n",
       " <a class=\"_1jJQdf _2Mji8F\" href=\"/kitchen-cookware-serveware/pr?sid=upp&amp;otracker=categorytree\" title=\"Kitchen, Cookware &amp; Serveware\">Kitchen, Cookware &amp; Serveware</a>,\n",
       " <a class=\"_1jJQdf _2Mji8F\" href=\"/jewellery/pr?sid=mcr&amp;otracker=categorytree\" title=\"Jewellery\">Jewellery</a>,\n",
       " <a class=\"_1jJQdf _2Mji8F\" href=\"/home-cleaning-bathroom-accessories/pr?sid=rja&amp;otracker=categorytree\" title=\"Home Cleaning &amp; Bathroom Accessories\">Home Cleaning &amp; Bathroom Accessories</a>,\n",
       " <a class=\"_1jJQdf _2Mji8F\" href=\"/audio-video/pr?sid=0pm&amp;otracker=categorytree\" title=\"Audio &amp; Video\">Audio &amp; Video</a>,\n",
       " <a class=\"_1jJQdf _2Mji8F\" href=\"/eyewear/pr?sid=u73&amp;otracker=categorytree\" title=\"Eyewear\">Eyewear</a>,\n",
       " <a class=\"_1jJQdf _2Mji8F\" href=\"/vas/pr?sid=mcd&amp;otracker=categorytree\" title=\"Vas\">Vas</a>,\n",
       " <a class=\"_1jJQdf _2Mji8F\" href=\"/pet-supplies/pr?sid=p3t&amp;otracker=categorytree\" title=\"Pet Supplies\">Pet Supplies</a>,\n",
       " <a class=\"_1jJQdf _2Mji8F\" href=\"/home-furnishing/pr?sid=jra&amp;otracker=categorytree\" title=\"Home Furnishing\">Home Furnishing</a>,\n",
       " <a class=\"_1jJQdf _2Mji8F\" href=\"/musical-instruments/pr?sid=ypu&amp;otracker=categorytree\" title=\"Musical Instruments\">Musical Instruments</a>,\n",
       " <a class=\"_1jJQdf _2Mji8F\" href=\"/exercise-fitness/pr?sid=qoc&amp;otracker=categorytree\" title=\"Exercise &amp; Fitness\">Exercise &amp; Fitness</a>,\n",
       " <a class=\"_1jJQdf _2Mji8F\" href=\"/watches/pr?sid=r18&amp;otracker=categorytree\" title=\"Watches\">Watches</a>,\n",
       " <a class=\"_1jJQdf _2Mji8F\" href=\"/kids-accessories/pr?sid=d69&amp;otracker=categorytree\" title=\"Kids Accessories\">Kids Accessories</a>,\n",
       " <a class=\"_1jJQdf _2Mji8F\" href=\"/home-decor/pr?sid=arb&amp;otracker=categorytree\" title=\"Home Decor\">Home Decor</a>,\n",
       " <a class=\"_1jJQdf _2Mji8F\" href=\"/furniture/pr?sid=wwe&amp;otracker=categorytree\" title=\"Furniture\">Furniture</a>,\n",
       " <a class=\"_1jJQdf _2Mji8F\" href=\"/wearable-smart-devices/pr?sid=ajy&amp;otracker=categorytree\" title=\"Wearable Smart Devices\">Wearable Smart Devices</a>,\n",
       " <a class=\"_1jJQdf _2Mji8F\" href=\"/sunglasses/pr?sid=26x&amp;otracker=categorytree\" title=\"Sunglasses\">Sunglasses</a>,\n",
       " <a class=\"_1jJQdf _2Mji8F\" href=\"/automation-robotics/pr?sid=igc&amp;otracker=categorytree\" title=\"Automation &amp; Robotics\">Automation &amp; Robotics</a>,\n",
       " <a class=\"_1jJQdf _2Mji8F\" href=\"/festive-decor-gifting/pr?sid=bro&amp;otracker=categorytree\" title=\"Festive Decor &amp; Gifting\">Festive Decor &amp; Gifting</a>,\n",
       " <a class=\"_1jJQdf _2Mji8F\" href=\"/sports/pr?sid=abc&amp;otracker=categorytree\" title=\"Sports\">Sports</a>,\n",
       " <a class=\"_1jJQdf _2Mji8F\" href=\"/health-personal-care-appliances/pr?sid=zlw&amp;otracker=categorytree\" title=\"Health &amp; Personal Care Appliances\">Health &amp; Personal Care Appliances</a>,\n",
       " <a class=\"_1jJQdf _2Mji8F\" href=\"/footwear/pr?sid=osp&amp;otracker=categorytree\" title=\"Footwear\">Footwear</a>,\n",
       " <a class=\"_1jJQdf _2Mji8F\" href=\"/baby-care/pr?sid=kyh&amp;otracker=categorytree\" title=\"Baby Care\">Baby Care</a>,\n",
       " <a class=\"_1jJQdf _2Mji8F\" href=\"/toys/pr?sid=mgl&amp;otracker=categorytree\" title=\"Toys\">Toys</a>,\n",
       " <a class=\"_1jJQdf _2Mji8F\" href=\"/toys-and-games/pr?sid=tng&amp;otracker=categorytree\" title=\"Toys and Games\">Toys and Games</a>]"
      ]
     },
     "execution_count": 13,
     "metadata": {},
     "output_type": "execute_result"
    }
   ],
   "source": [
    "soup.find_all(\"a\", class_= \"_1jJQdf _2Mji8F\")"
   ]
  },
  {
   "cell_type": "code",
   "execution_count": 8,
   "id": "d3279fd5-8177-4c6c-b43c-829960b57e7f",
   "metadata": {},
   "outputs": [
    {
     "data": {
      "text/plain": [
       "<div class=\"TB_InB\"><span><svg class=\"_2Iqv73\" height=\"10\" viewbox=\"0 0 16 27\" width=\"10\" xmlns=\"http://www.w3.org/2000/svg\"><path class=\"\" d=\"M16 23.207L6.11 13.161 16 3.093 12.955 0 0 13.161l12.955 13.161z\" fill=\"#fff\"></path></svg></span><a class=\"_1jJQdf _2Mji8F\" href=\"/clothing-and-accessories/pr?sid=clo&amp;otracker=categorytree\" title=\"Clothing and Accessories\">Clothing and Accessories</a></div>"
      ]
     },
     "execution_count": 8,
     "metadata": {},
     "output_type": "execute_result"
    }
   ],
   "source": [
    "soup.find('div', class_='TB_InB')"
   ]
  },
  {
   "cell_type": "code",
   "execution_count": 11,
   "id": "03b492c1-7f24-4224-8da0-694dca3372ec",
   "metadata": {},
   "outputs": [],
   "source": [
    "html_manual = \"\"\"<section class=\"_2aDURW\"><div class=\"_2lfNTw\"><span>PICK A CATEGORY</span></div><div><div class=\"TB_InB\"><span><svg width=\"10\" height=\"10\" viewBox=\"0 0 16 27\" xmlns=\"http://www.w3.org/2000/svg\" class=\"_2Iqv73\"><path d=\"M16 23.207L6.11 13.161 16 3.093 12.955 0 0 13.161l12.955 13.161z\" fill=\"#fff\" class=\"\"></path></svg></span><a class=\"_1jJQdf _2Mji8F\" title=\"Clothing and Accessories\" href=\"/clothing-and-accessories/pr?sid=clo&amp;otracker=categorytree\">Clothing and Accessories</a></div></div><div><div class=\"TB_InB\"><span><svg width=\"10\" height=\"10\" viewBox=\"0 0 16 27\" xmlns=\"http://www.w3.org/2000/svg\" class=\"_2Iqv73\"><path d=\"M16 23.207L6.11 13.161 16 3.093 12.955 0 0 13.161l12.955 13.161z\" fill=\"#fff\" class=\"\"></path></svg></span><a class=\"_1jJQdf _2Mji8F\" title=\"Automotive Accessories\" href=\"/automotive-accessories/pr?sid=1mt&amp;otracker=categorytree\">Automotive Accessories</a></div></div><div><div class=\"TB_InB\"><span><svg width=\"10\" height=\"10\" viewBox=\"0 0 16 27\" xmlns=\"http://www.w3.org/2000/svg\" class=\"_2Iqv73\"><path d=\"M16 23.207L6.11 13.161 16 3.093 12.955 0 0 13.161l12.955 13.161z\" fill=\"#fff\" class=\"\"></path></svg></span><a class=\"_1jJQdf _2Mji8F\" title=\"Food Products\" href=\"/food-products/pr?sid=eat&amp;otracker=categorytree\">Food Products</a></div></div><div><div class=\"TB_InB\"><span><svg width=\"10\" height=\"10\" viewBox=\"0 0 16 27\" xmlns=\"http://www.w3.org/2000/svg\" class=\"_2Iqv73\"><path d=\"M16 23.207L6.11 13.161 16 3.093 12.955 0 0 13.161l12.955 13.161z\" fill=\"#fff\" class=\"\"></path></svg></span><a class=\"_1jJQdf _2Mji8F\" title=\"Books\" href=\"/books/pr?sid=bks&amp;otracker=categorytree\">Books</a></div></div><div><div class=\"TB_InB\"><span><svg width=\"10\" height=\"10\" viewBox=\"0 0 16 27\" xmlns=\"http://www.w3.org/2000/svg\" class=\"_2Iqv73\"><path d=\"M16 23.207L6.11 13.161 16 3.093 12.955 0 0 13.161l12.955 13.161z\" fill=\"#fff\" class=\"\"></path></svg></span><a class=\"_1jJQdf _2Mji8F\" title=\"Industrial &amp; Scientific Supplies\" href=\"/industrial-scientific-supplies/pr?sid=gsx&amp;otracker=categorytree\">Industrial &amp; Scientific Supplies</a></div></div><div><div class=\"TB_InB\"><span><svg width=\"10\" height=\"10\" viewBox=\"0 0 16 27\" xmlns=\"http://www.w3.org/2000/svg\" class=\"_2Iqv73\"><path d=\"M16 23.207L6.11 13.161 16 3.093 12.955 0 0 13.161l12.955 13.161z\" fill=\"#fff\" class=\"\"></path></svg></span><a class=\"_1jJQdf _2Mji8F\" title=\"Health Care\" href=\"/health-care/pr?sid=hlc&amp;otracker=categorytree\">Health Care</a></div></div><div><div class=\"TB_InB\"><span><svg width=\"10\" height=\"10\" viewBox=\"0 0 16 27\" xmlns=\"http://www.w3.org/2000/svg\" class=\"_2Iqv73\"><path d=\"M16 23.207L6.11 13.161 16 3.093 12.955 0 0 13.161l12.955 13.161z\" fill=\"#fff\" class=\"\"></path></svg></span><a class=\"_1jJQdf _2Mji8F\" title=\"Home Improvement\" href=\"/home-improvement/pr?sid=h1m&amp;otracker=categorytree\">Home Improvement</a></div></div><div><div class=\"TB_InB\"><span><svg width=\"10\" height=\"10\" viewBox=\"0 0 16 27\" xmlns=\"http://www.w3.org/2000/svg\" class=\"_2Iqv73\"><path d=\"M16 23.207L6.11 13.161 16 3.093 12.955 0 0 13.161l12.955 13.161z\" fill=\"#fff\" class=\"\"></path></svg></span><a class=\"_1jJQdf _2Mji8F\" title=\"Building Materials and Supplies\" href=\"/building-materials-and-supplies/pr?sid=b8s&amp;otracker=categorytree\">Building Materials and Supplies</a></div></div><div><div class=\"TB_InB\"><span><svg width=\"10\" height=\"10\" viewBox=\"0 0 16 27\" xmlns=\"http://www.w3.org/2000/svg\" class=\"_2Iqv73\"><path d=\"M16 23.207L6.11 13.161 16 3.093 12.955 0 0 13.161l12.955 13.161z\" fill=\"#fff\" class=\"\"></path></svg></span><a class=\"_1jJQdf _2Mji8F\" title=\"Beauty and Grooming\" href=\"/beauty-and-grooming/pr?sid=g9b&amp;otracker=categorytree\">Beauty and Grooming</a></div></div><div><div class=\"TB_InB\"><span><svg width=\"10\" height=\"10\" viewBox=\"0 0 16 27\" xmlns=\"http://www.w3.org/2000/svg\" class=\"_2Iqv73\"><path d=\"M16 23.207L6.11 13.161 16 3.093 12.955 0 0 13.161l12.955 13.161z\" fill=\"#fff\" class=\"\"></path></svg></span><a class=\"_1jJQdf _2Mji8F\" title=\"Mobiles &amp; Accessories\" href=\"/mobiles-accessories/pr?sid=tyy&amp;otracker=categorytree\">Mobiles &amp; Accessories</a></div></div><div><div class=\"TB_InB\"><span><svg width=\"10\" height=\"10\" viewBox=\"0 0 16 27\" xmlns=\"http://www.w3.org/2000/svg\" class=\"_2Iqv73\"><path d=\"M16 23.207L6.11 13.161 16 3.093 12.955 0 0 13.161l12.955 13.161z\" fill=\"#fff\" class=\"\"></path></svg></span><a class=\"_1jJQdf _2Mji8F\" title=\"Computers\" href=\"/computers/pr?sid=6bo&amp;otracker=categorytree\">Computers</a></div></div><div><div class=\"TB_InB\"><span><svg width=\"10\" height=\"10\" viewBox=\"0 0 16 27\" xmlns=\"http://www.w3.org/2000/svg\" class=\"_2Iqv73\"><path d=\"M16 23.207L6.11 13.161 16 3.093 12.955 0 0 13.161l12.955 13.161z\" fill=\"#fff\" class=\"\"></path></svg></span><a class=\"_1jJQdf _2Mji8F\" title=\"Cameras &amp; Accessories\" href=\"/cameras-accessories/pr?sid=jek&amp;otracker=categorytree\">Cameras &amp; Accessories</a></div></div><div><div class=\"TB_InB\"><span><svg width=\"10\" height=\"10\" viewBox=\"0 0 16 27\" xmlns=\"http://www.w3.org/2000/svg\" class=\"_2Iqv73\"><path d=\"M16 23.207L6.11 13.161 16 3.093 12.955 0 0 13.161l12.955 13.161z\" fill=\"#fff\" class=\"\"></path></svg></span><a class=\"_1jJQdf _2Mji8F\" title=\"Gaming\" href=\"/gaming/pr?sid=4rr&amp;otracker=categorytree\">Gaming</a></div></div><div><div class=\"TB_InB\"><span><svg width=\"10\" height=\"10\" viewBox=\"0 0 16 27\" xmlns=\"http://www.w3.org/2000/svg\" class=\"_2Iqv73\"><path d=\"M16 23.207L6.11 13.161 16 3.093 12.955 0 0 13.161l12.955 13.161z\" fill=\"#fff\" class=\"\"></path></svg></span><a class=\"_1jJQdf _2Mji8F\" title=\"Music, Movies &amp; Posters\" href=\"/music-movies-posters/pr?sid=4kt&amp;otracker=categorytree\">Music, Movies &amp; Posters</a></div></div><div><div class=\"TB_InB\"><span><svg width=\"10\" height=\"10\" viewBox=\"0 0 16 27\" xmlns=\"http://www.w3.org/2000/svg\" class=\"_2Iqv73\"><path d=\"M16 23.207L6.11 13.161 16 3.093 12.955 0 0 13.161l12.955 13.161z\" fill=\"#fff\" class=\"\"></path></svg></span><a class=\"_1jJQdf _2Mji8F\" title=\"Home Entertainment\" href=\"/home-entertainment/pr?sid=ckf&amp;otracker=categorytree\">Home Entertainment</a></div></div><div><div class=\"TB_InB\"><span><svg width=\"10\" height=\"10\" viewBox=\"0 0 16 27\" xmlns=\"http://www.w3.org/2000/svg\" class=\"_2Iqv73\"><path d=\"M16 23.207L6.11 13.161 16 3.093 12.955 0 0 13.161l12.955 13.161z\" fill=\"#fff\" class=\"\"></path></svg></span><a class=\"_1jJQdf _2Mji8F\" title=\"Home &amp; Kitchen\" href=\"/home-kitchen/pr?sid=j9e&amp;otracker=categorytree\">Home &amp; Kitchen</a></div></div><div><div class=\"TB_InB\"><span><svg width=\"10\" height=\"10\" viewBox=\"0 0 16 27\" xmlns=\"http://www.w3.org/2000/svg\" class=\"_2Iqv73\"><path d=\"M16 23.207L6.11 13.161 16 3.093 12.955 0 0 13.161l12.955 13.161z\" fill=\"#fff\" class=\"\"></path></svg></span><a class=\"_1jJQdf _2Mji8F\" title=\"Pens &amp; Stationery\" href=\"/pens-stationery/pr?sid=dgv&amp;otracker=categorytree\">Pens &amp; Stationery</a></div></div><div><div class=\"TB_InB\"><span><svg width=\"10\" height=\"10\" viewBox=\"0 0 16 27\" xmlns=\"http://www.w3.org/2000/svg\" class=\"_2Iqv73\"><path d=\"M16 23.207L6.11 13.161 16 3.093 12.955 0 0 13.161l12.955 13.161z\" fill=\"#fff\" class=\"\"></path></svg></span><a class=\"_1jJQdf _2Mji8F\" title=\"Bags, Wallets &amp; Belts\" href=\"/bags-wallets-belts/pr?sid=reh&amp;otracker=categorytree\">Bags, Wallets &amp; Belts</a></div></div><div><div class=\"TB_InB\"><span><svg width=\"10\" height=\"10\" viewBox=\"0 0 16 27\" xmlns=\"http://www.w3.org/2000/svg\" class=\"_2Iqv73\"><path d=\"M16 23.207L6.11 13.161 16 3.093 12.955 0 0 13.161l12.955 13.161z\" fill=\"#fff\" class=\"\"></path></svg></span><a class=\"_1jJQdf _2Mji8F\" title=\"Home Lighting\" href=\"/home-lighting/pr?sid=jhg&amp;otracker=categorytree\">Home Lighting</a></div></div><div><div class=\"TB_InB\"><span><svg width=\"10\" height=\"10\" viewBox=\"0 0 16 27\" xmlns=\"http://www.w3.org/2000/svg\" class=\"_2Iqv73\"><path d=\"M16 23.207L6.11 13.161 16 3.093 12.955 0 0 13.161l12.955 13.161z\" fill=\"#fff\" class=\"\"></path></svg></span><a class=\"_1jJQdf _2Mji8F\" title=\"Kitchen, Cookware &amp; Serveware\" href=\"/kitchen-cookware-serveware/pr?sid=upp&amp;otracker=categorytree\">Kitchen, Cookware &amp; Serveware</a></div></div><div><div class=\"TB_InB\"><span><svg width=\"10\" height=\"10\" viewBox=\"0 0 16 27\" xmlns=\"http://www.w3.org/2000/svg\" class=\"_2Iqv73\"><path d=\"M16 23.207L6.11 13.161 16 3.093 12.955 0 0 13.161l12.955 13.161z\" fill=\"#fff\" class=\"\"></path></svg></span><a class=\"_1jJQdf _2Mji8F\" title=\"Jewellery\" href=\"/jewellery/pr?sid=mcr&amp;otracker=categorytree\">Jewellery</a></div></div><div><div class=\"TB_InB\"><span><svg width=\"10\" height=\"10\" viewBox=\"0 0 16 27\" xmlns=\"http://www.w3.org/2000/svg\" class=\"_2Iqv73\"><path d=\"M16 23.207L6.11 13.161 16 3.093 12.955 0 0 13.161l12.955 13.161z\" fill=\"#fff\" class=\"\"></path></svg></span><a class=\"_1jJQdf _2Mji8F\" title=\"Home Cleaning &amp; Bathroom Accessories\" href=\"/home-cleaning-bathroom-accessories/pr?sid=rja&amp;otracker=categorytree\">Home Cleaning &amp; Bathroom Accessories</a></div></div><div><div class=\"TB_InB\"><span><svg width=\"10\" height=\"10\" viewBox=\"0 0 16 27\" xmlns=\"http://www.w3.org/2000/svg\" class=\"_2Iqv73\"><path d=\"M16 23.207L6.11 13.161 16 3.093 12.955 0 0 13.161l12.955 13.161z\" fill=\"#fff\" class=\"\"></path></svg></span><a class=\"_1jJQdf _2Mji8F\" title=\"Audio &amp; Video\" href=\"/audio-video/pr?sid=0pm&amp;otracker=categorytree\">Audio &amp; Video</a></div></div><div><div class=\"TB_InB\"><span><svg width=\"10\" height=\"10\" viewBox=\"0 0 16 27\" xmlns=\"http://www.w3.org/2000/svg\" class=\"_2Iqv73\"><path d=\"M16 23.207L6.11 13.161 16 3.093 12.955 0 0 13.161l12.955 13.161z\" fill=\"#fff\" class=\"\"></path></svg></span><a class=\"_1jJQdf _2Mji8F\" title=\"Eyewear\" href=\"/eyewear/pr?sid=u73&amp;otracker=categorytree\">Eyewear</a></div></div><div><div class=\"TB_InB\"><span><svg width=\"10\" height=\"10\" viewBox=\"0 0 16 27\" xmlns=\"http://www.w3.org/2000/svg\" class=\"_2Iqv73\"><path d=\"M16 23.207L6.11 13.161 16 3.093 12.955 0 0 13.161l12.955 13.161z\" fill=\"#fff\" class=\"\"></path></svg></span><a class=\"_1jJQdf _2Mji8F\" title=\"Vas\" href=\"/vas/pr?sid=mcd&amp;otracker=categorytree\">Vas</a></div></div><div><div class=\"TB_InB\"><span><svg width=\"10\" height=\"10\" viewBox=\"0 0 16 27\" xmlns=\"http://www.w3.org/2000/svg\" class=\"_2Iqv73\"><path d=\"M16 23.207L6.11 13.161 16 3.093 12.955 0 0 13.161l12.955 13.161z\" fill=\"#fff\" class=\"\"></path></svg></span><a class=\"_1jJQdf _2Mji8F\" title=\"Pet Supplies\" href=\"/pet-supplies/pr?sid=p3t&amp;otracker=categorytree\">Pet Supplies</a></div></div><div><div class=\"TB_InB\"><span><svg width=\"10\" height=\"10\" viewBox=\"0 0 16 27\" xmlns=\"http://www.w3.org/2000/svg\" class=\"_2Iqv73\"><path d=\"M16 23.207L6.11 13.161 16 3.093 12.955 0 0 13.161l12.955 13.161z\" fill=\"#fff\" class=\"\"></path></svg></span><a class=\"_1jJQdf _2Mji8F\" title=\"Home Furnishing\" href=\"/home-furnishing/pr?sid=jra&amp;otracker=categorytree\">Home Furnishing</a></div></div><div><div class=\"TB_InB\"><span><svg width=\"10\" height=\"10\" viewBox=\"0 0 16 27\" xmlns=\"http://www.w3.org/2000/svg\" class=\"_2Iqv73\"><path d=\"M16 23.207L6.11 13.161 16 3.093 12.955 0 0 13.161l12.955 13.161z\" fill=\"#fff\" class=\"\"></path></svg></span><a class=\"_1jJQdf _2Mji8F\" title=\"Musical Instruments\" href=\"/musical-instruments/pr?sid=ypu&amp;otracker=categorytree\">Musical Instruments</a></div></div><div><div class=\"TB_InB\"><span><svg width=\"10\" height=\"10\" viewBox=\"0 0 16 27\" xmlns=\"http://www.w3.org/2000/svg\" class=\"_2Iqv73\"><path d=\"M16 23.207L6.11 13.161 16 3.093 12.955 0 0 13.161l12.955 13.161z\" fill=\"#fff\" class=\"\"></path></svg></span><a class=\"_1jJQdf _2Mji8F\" title=\"Exercise &amp; Fitness\" href=\"/exercise-fitness/pr?sid=qoc&amp;otracker=categorytree\">Exercise &amp; Fitness</a></div></div><div><div class=\"TB_InB\"><span><svg width=\"10\" height=\"10\" viewBox=\"0 0 16 27\" xmlns=\"http://www.w3.org/2000/svg\" class=\"_2Iqv73\"><path d=\"M16 23.207L6.11 13.161 16 3.093 12.955 0 0 13.161l12.955 13.161z\" fill=\"#fff\" class=\"\"></path></svg></span><a class=\"_1jJQdf _2Mji8F\" title=\"Watches\" href=\"/watches/pr?sid=r18&amp;otracker=categorytree\">Watches</a></div></div><div><div class=\"TB_InB\"><span><svg width=\"10\" height=\"10\" viewBox=\"0 0 16 27\" xmlns=\"http://www.w3.org/2000/svg\" class=\"_2Iqv73\"><path d=\"M16 23.207L6.11 13.161 16 3.093 12.955 0 0 13.161l12.955 13.161z\" fill=\"#fff\" class=\"\"></path></svg></span><a class=\"_1jJQdf _2Mji8F\" title=\"Kids Accessories\" href=\"/kids-accessories/pr?sid=d69&amp;otracker=categorytree\">Kids Accessories</a></div></div><div><div class=\"TB_InB\"><span><svg width=\"10\" height=\"10\" viewBox=\"0 0 16 27\" xmlns=\"http://www.w3.org/2000/svg\" class=\"_2Iqv73\"><path d=\"M16 23.207L6.11 13.161 16 3.093 12.955 0 0 13.161l12.955 13.161z\" fill=\"#fff\" class=\"\"></path></svg></span><a class=\"_1jJQdf _2Mji8F\" title=\"Home Decor\" href=\"/home-decor/pr?sid=arb&amp;otracker=categorytree\">Home Decor</a></div></div><div><div class=\"TB_InB\"><span><svg width=\"10\" height=\"10\" viewBox=\"0 0 16 27\" xmlns=\"http://www.w3.org/2000/svg\" class=\"_2Iqv73\"><path d=\"M16 23.207L6.11 13.161 16 3.093 12.955 0 0 13.161l12.955 13.161z\" fill=\"#fff\" class=\"\"></path></svg></span><a class=\"_1jJQdf _2Mji8F\" title=\"Furniture\" href=\"/furniture/pr?sid=wwe&amp;otracker=categorytree\">Furniture</a></div></div><div><div class=\"TB_InB\"><span><svg width=\"10\" height=\"10\" viewBox=\"0 0 16 27\" xmlns=\"http://www.w3.org/2000/svg\" class=\"_2Iqv73\"><path d=\"M16 23.207L6.11 13.161 16 3.093 12.955 0 0 13.161l12.955 13.161z\" fill=\"#fff\" class=\"\"></path></svg></span><a class=\"_1jJQdf _2Mji8F\" title=\"Wearable Smart Devices\" href=\"/wearable-smart-devices/pr?sid=ajy&amp;otracker=categorytree\">Wearable Smart Devices</a></div></div><div><div class=\"TB_InB\"><span><svg width=\"10\" height=\"10\" viewBox=\"0 0 16 27\" xmlns=\"http://www.w3.org/2000/svg\" class=\"_2Iqv73\"><path d=\"M16 23.207L6.11 13.161 16 3.093 12.955 0 0 13.161l12.955 13.161z\" fill=\"#fff\" class=\"\"></path></svg></span><a class=\"_1jJQdf _2Mji8F\" title=\"Sunglasses\" href=\"/sunglasses/pr?sid=26x&amp;otracker=categorytree\">Sunglasses</a></div></div><div><div class=\"TB_InB\"><span><svg width=\"10\" height=\"10\" viewBox=\"0 0 16 27\" xmlns=\"http://www.w3.org/2000/svg\" class=\"_2Iqv73\"><path d=\"M16 23.207L6.11 13.161 16 3.093 12.955 0 0 13.161l12.955 13.161z\" fill=\"#fff\" class=\"\"></path></svg></span><a class=\"_1jJQdf _2Mji8F\" title=\"Automation &amp; Robotics\" href=\"/automation-robotics/pr?sid=igc&amp;otracker=categorytree\">Automation &amp; Robotics</a></div></div><div><div class=\"TB_InB\"><span><svg width=\"10\" height=\"10\" viewBox=\"0 0 16 27\" xmlns=\"http://www.w3.org/2000/svg\" class=\"_2Iqv73\"><path d=\"M16 23.207L6.11 13.161 16 3.093 12.955 0 0 13.161l12.955 13.161z\" fill=\"#fff\" class=\"\"></path></svg></span><a class=\"_1jJQdf _2Mji8F\" title=\"Festive Decor &amp; Gifting\" href=\"/festive-decor-gifting/pr?sid=bro&amp;otracker=categorytree\">Festive Decor &amp; Gifting</a></div></div><div><div class=\"TB_InB\"><span><svg width=\"10\" height=\"10\" viewBox=\"0 0 16 27\" xmlns=\"http://www.w3.org/2000/svg\" class=\"_2Iqv73\"><path d=\"M16 23.207L6.11 13.161 16 3.093 12.955 0 0 13.161l12.955 13.161z\" fill=\"#fff\" class=\"\"></path></svg></span><a class=\"_1jJQdf _2Mji8F\" title=\"Sports\" href=\"/sports/pr?sid=abc&amp;otracker=categorytree\">Sports</a></div></div><div><div class=\"TB_InB\"><span><svg width=\"10\" height=\"10\" viewBox=\"0 0 16 27\" xmlns=\"http://www.w3.org/2000/svg\" class=\"_2Iqv73\"><path d=\"M16 23.207L6.11 13.161 16 3.093 12.955 0 0 13.161l12.955 13.161z\" fill=\"#fff\" class=\"\"></path></svg></span><a class=\"_1jJQdf _2Mji8F\" title=\"Health &amp; Personal Care Appliances\" href=\"/health-personal-care-appliances/pr?sid=zlw&amp;otracker=categorytree\">Health &amp; Personal Care Appliances</a></div></div><div><div class=\"TB_InB\"><span><svg width=\"10\" height=\"10\" viewBox=\"0 0 16 27\" xmlns=\"http://www.w3.org/2000/svg\" class=\"_2Iqv73\"><path d=\"M16 23.207L6.11 13.161 16 3.093 12.955 0 0 13.161l12.955 13.161z\" fill=\"#fff\" class=\"\"></path></svg></span><a class=\"_1jJQdf _2Mji8F\" title=\"Footwear\" href=\"/footwear/pr?sid=osp&amp;otracker=categorytree\">Footwear</a></div></div><div><div class=\"TB_InB\"><span><svg width=\"10\" height=\"10\" viewBox=\"0 0 16 27\" xmlns=\"http://www.w3.org/2000/svg\" class=\"_2Iqv73\"><path d=\"M16 23.207L6.11 13.161 16 3.093 12.955 0 0 13.161l12.955 13.161z\" fill=\"#fff\" class=\"\"></path></svg></span><a class=\"_1jJQdf _2Mji8F\" title=\"Baby Care\" href=\"/baby-care/pr?sid=kyh&amp;otracker=categorytree\">Baby Care</a></div></div><div><div class=\"TB_InB\"><span><svg width=\"10\" height=\"10\" viewBox=\"0 0 16 27\" xmlns=\"http://www.w3.org/2000/svg\" class=\"_2Iqv73\"><path d=\"M16 23.207L6.11 13.161 16 3.093 12.955 0 0 13.161l12.955 13.161z\" fill=\"#fff\" class=\"\"></path></svg></span><a class=\"_1jJQdf _2Mji8F\" title=\"Toys\" href=\"/toys/pr?sid=mgl&amp;otracker=categorytree\">Toys</a></div></div><div><div class=\"TB_InB\"><span><svg width=\"10\" height=\"10\" viewBox=\"0 0 16 27\" xmlns=\"http://www.w3.org/2000/svg\" class=\"_2Iqv73\"><path d=\"M16 23.207L6.11 13.161 16 3.093 12.955 0 0 13.161l12.955 13.161z\" fill=\"#fff\" class=\"\"></path></svg></span><a class=\"_1jJQdf _2Mji8F\" title=\"Toys and Games\" href=\"/toys-and-games/pr?sid=tng&amp;otracker=categorytree\">Toys and Games</a></div></div><div class=\"_3OwxoU\"><span>Show less categories</span></div></section>\"\"\""
   ]
  },
  {
   "cell_type": "code",
   "execution_count": 14,
   "id": "8fed06a3-3748-447c-b1a7-9c55e91c93da",
   "metadata": {},
   "outputs": [],
   "source": [
    "soup1 = BeautifulSoup(\"\"\"<div><a class=\"_2SqgSY\" title=\"Winter Wear\" href=\"/clothing-and-accessories/winter-wear/pr?sid=clo,qvw&amp;otracker=categorytree\">Winter Wear</a><a class=\"_2SqgSY\" title=\"Topwear\" href=\"/clothing-and-accessories/topwear/pr?sid=clo,ash&amp;otracker=categorytree\">Topwear</a><a class=\"_2SqgSY\" title=\"Bottomwear\" href=\"/clothing-and-accessories/bottomwear/pr?sid=clo,vua&amp;otracker=categorytree\">Bottomwear</a><a class=\"_2SqgSY\" title=\"Raincoats\" href=\"/clothing-and-accessories/raincoats/pr?sid=clo,mz5&amp;otracker=categorytree\">Raincoats</a><a class=\"_2SqgSY\" title=\"Dresses and Gowns\" href=\"/clothing-and-accessories/dresses-and-gowns/pr?sid=clo,odx&amp;otracker=categorytree\">Dresses and Gowns</a><div class=\"_1WMVGk _2SqgSY\"><span>Show 12 more</span></div></div>\"\"\")"
   ]
  },
  {
   "cell_type": "code",
   "execution_count": 15,
   "id": "e2368b0d-1f9e-4658-bf44-671f7c04dc66",
   "metadata": {},
   "outputs": [
    {
     "data": {
      "text/plain": [
       "[<a class=\"_2SqgSY\" href=\"/clothing-and-accessories/winter-wear/pr?sid=clo,qvw&amp;otracker=categorytree\" title=\"Winter Wear\">Winter Wear</a>,\n",
       " <a class=\"_2SqgSY\" href=\"/clothing-and-accessories/topwear/pr?sid=clo,ash&amp;otracker=categorytree\" title=\"Topwear\">Topwear</a>,\n",
       " <a class=\"_2SqgSY\" href=\"/clothing-and-accessories/bottomwear/pr?sid=clo,vua&amp;otracker=categorytree\" title=\"Bottomwear\">Bottomwear</a>,\n",
       " <a class=\"_2SqgSY\" href=\"/clothing-and-accessories/raincoats/pr?sid=clo,mz5&amp;otracker=categorytree\" title=\"Raincoats\">Raincoats</a>,\n",
       " <a class=\"_2SqgSY\" href=\"/clothing-and-accessories/dresses-and-gowns/pr?sid=clo,odx&amp;otracker=categorytree\" title=\"Dresses and Gowns\">Dresses and Gowns</a>]"
      ]
     },
     "execution_count": 15,
     "metadata": {},
     "output_type": "execute_result"
    }
   ],
   "source": [
    "soup1.find_all('a', class_='_2SqgSY')"
   ]
  }
 ],
 "metadata": {
  "kernelspec": {
   "display_name": "personal-productRecommendor",
   "language": "python",
   "name": "python3"
  },
  "language_info": {
   "codemirror_mode": {
    "name": "ipython",
    "version": 3
   },
   "file_extension": ".py",
   "mimetype": "text/x-python",
   "name": "python",
   "nbconvert_exporter": "python",
   "pygments_lexer": "ipython3",
   "version": "3.12.2"
  },
  "vscode": {
   "interpreter": {
    "hash": "fa793fbc8345b87a85c2301e15470646b93e3377d5fc9499b8b6541cf1ca616d"
   }
  }
 },
 "nbformat": 4,
 "nbformat_minor": 5
}
